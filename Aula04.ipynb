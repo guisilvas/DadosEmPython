{
 "cells": [
  {
   "cell_type": "markdown",
   "metadata": {},
   "source": [
    "# Aula 04 - Strings\n",
    "\n",
    "---\n",
    "\n",
    "Material da aula: https://drive.google.com/drive/folders/1p3hyRlxqww-SILh6i28kmWU9H-kU29kI\n",
    "\n",
    "---\n",
    "\n",
    "## 1) Strings\n",
    "Listas são espaços na memória que guardam dados(variáveis e/ou constantes), assim como as variáveis, porém, mais de um dado.\n",
    "\n",
    "\n",
    "Elas podem armazenar qualquer dado e diferentes dados em uma mesma lista e até outras listas."
   ]
  }
 ],
 "metadata": {
  "language_info": {
   "name": "python"
  }
 },
 "nbformat": 4,
 "nbformat_minor": 2
}
