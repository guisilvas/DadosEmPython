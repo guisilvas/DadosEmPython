{
  "cells": [
    {
      "cell_type": "markdown",
      "metadata": {
        "id": "XnqMHNOaSiyS"
      },
      "source": [
        "# Aula 0 - Introdução, Jupyter e variáveis\n",
        "\n",
        "Na aula de hoje, vamos explorar os seguintes tópicos em Python:\n",
        "\n",
        "- 1) Introdução: Jupyter;\n",
        "- 2) Primeiro programa em Python;\n",
        "- 3) Variáveis.\n",
        "_____________\n",
        "\n",
        "### Problema gerador: como exibir na tela um cumprimento personalizado com um dado nome?\n",
        "\n",
        "Exemplo: \"Olá, André! Tudo bem?\""
      ]
    },
    {
      "cell_type": "markdown",
      "metadata": {
        "id": "GDF7KWHHSiyU"
      },
      "source": [
        "_________\n",
        "_________\n",
        "_________"
      ]
    },
    {
      "cell_type": "markdown",
      "metadata": {
        "id": "lwxNR1gTSiyV"
      },
      "source": [
        "## 1) Introdução: Jupyter Notebook\n",
        "\n",
        "### Instalação do Anaconda:\n",
        "\n",
        "O anaconda é uma distribuição das linguagens Python e R para a computação científica, sendo amplamente utilizada no mundo de Data Science (mas não se restringindo apenas a isso). Para instalá-la, baixe a versão mais recente na [página de downloads](https://www.anaconda.com/distribution/) do site. Essa distribuição já contém grande parte dos módulos (bibliotecas) Python que usaremos em aula.\n",
        "\n",
        "O curso também pode ser seguido instalando cada biblioteca manualmente com o `pip`.\n",
        "\n",
        "### Jupyter\n",
        "\n",
        "Você pode encontrar uma introdução ao Jupyter Notebook [aqui](https://medium.com/@pedrofullstack/introdu%C3%A7%C3%A3o-ao-jupyter-notebook-para-python-b2cf79cea31d).\n",
        "\n",
        "### Alguns atalhos\n",
        "\n",
        "Pra usar o Jupyter de forma fluida e rápida, é importante utilizarmos alguns atalhos do teclado.\n",
        "\n",
        "Existem muitos atalhos (eles podem ser consultados no menu acima, em **Help >> Keyboard Shortcuts**), mas os pricipais utilizados são:\n",
        "\n",
        "- CTRL + ENTER ou SHIFT + ENTER: executa a célula;\n",
        "- ESC: deixa a célula em modo de comando (azul);\n",
        "- ESC e depois M: transforma a célula em célula de texto (markdown);\n",
        "- ESC e depois Y: transforma a célula em célula de código;\n",
        "- ESC e depois DD: apaga a célula;\n",
        "- ESC e depois A: (ABOVE) - cria uma célula acima da célula atual;\n",
        "- ESC e depois B: (BELOW) - cria uma célula abaixo da célula atual;"
      ]
    },
    {
      "cell_type": "markdown",
      "metadata": {
        "id": "O4lJ75cvSiyV"
      },
      "source": [
        "## Google Colab\n",
        "\n",
        "Uma alternativa interessante ao Jupyter é o [Google Colab](https://colab.research.google.com/notebooks/welcome.ipynb?hl=pt-BR).\n",
        "\n",
        "O Colab é essencialmente um Notebook, bem parecido com o Jupyter, mas com a diferença de ser online e integrado às contas Google.\n",
        "\n",
        "Usando o Colab, você utiliza os recursos disponibilizados pelo google (ou seja, recursos na nuvem). Isto pode ser interessante quando houver limitações de hardware! Além disso, muitas bibliotecas já estão instaladas, então você raramente precisa se preocupar em instalar alguma coisa, o que e super prático!\n",
        "\n",
        "Além disso, é possível também utilizar recursos especializados, como GPUs e [TPUs](https://cloud.google.com/tpu). Para saber mais detalhes, [clique aqui!](https://research.google.com/colaboratory/faq.html)"
      ]
    },
    {
      "cell_type": "markdown",
      "metadata": {
        "id": "i9YFJDt_SiyV"
      },
      "source": [
        "_________\n",
        "_________\n",
        "_____________"
      ]
    },
    {
      "cell_type": "markdown",
      "metadata": {
        "id": "os8FvhjQSiyW"
      },
      "source": [
        "## 2) Primeiro programa em Python\n",
        "\n",
        "Tradicionalmente, o primeiro programa feito em uma nova linguagem de programação consiste em exibir a frase \"Olá, mundo!\" na tela.\n",
        "\n",
        "Vamos fazer isso em Python?\n",
        "\n",
        "Para isso, basta utilizar a função `print()`, e indicar o texto a ser exibido entre aspas: \"Olá, mundo!\""
      ]
    },
    {
      "cell_type": "code",
      "execution_count": null,
      "metadata": {
        "id": "rGJwgqN1SiyW",
        "outputId": "1f48f327-924e-41cb-efcc-cfbd0d2288a3"
      },
      "outputs": [
        {
          "name": "stdout",
          "output_type": "stream",
          "text": [
            "Olá, mundo!\n"
          ]
        }
      ],
      "source": [
        "print(\"Olá, mundo!\")"
      ]
    },
    {
      "cell_type": "markdown",
      "metadata": {
        "id": "pyLVzHIaSiyY"
      },
      "source": [
        "Parabéns! Seu primeiro programa em Python foi executado com sucesso!\n",
        "\n",
        "Depois vamos falar melhor sobre o `print()`."
      ]
    },
    {
      "cell_type": "markdown",
      "metadata": {
        "id": "dr8f1OSJSiyY"
      },
      "source": [
        "_________\n",
        "_________"
      ]
    },
    {
      "cell_type": "markdown",
      "metadata": {
        "id": "-pVDEj7FSiyY"
      },
      "source": [
        "Depois vamos falar melhor sobre operações matemáticas em Python, mas podemos exibir o resultado de algumas operações simples usando a funçao print()\n",
        "\n",
        "Note que as instruções são executadas __na ordem em que aparecem!__"
      ]
    },
    {
      "cell_type": "code",
      "execution_count": null,
      "metadata": {
        "id": "MJ_lybFiSiyY",
        "outputId": "ff8c6dd2-02e1-466b-8934-c250db1c2066"
      },
      "outputs": [
        {
          "name": "stdout",
          "output_type": "stream",
          "text": [
            "4\n",
            "6\n",
            "2.0\n"
          ]
        }
      ],
      "source": [
        "print(2+2)\n",
        "print(2*3)\n",
        "print(4/2)"
      ]
    },
    {
      "cell_type": "markdown",
      "metadata": {
        "id": "Q_GyugETSiyZ"
      },
      "source": [
        "O jupyter nos permite também examinar o valor de uma expressão sem a necessidade de usar o print()\n",
        "\n",
        "Mas note que logo abaixo do código, aparece um \"Out[]\", o que não acontece quando usamos a função print()\n",
        "\n",
        "Esse é um jeito de \"espiar\" o output das operações do Python de forma direta!"
      ]
    },
    {
      "cell_type": "code",
      "execution_count": null,
      "metadata": {
        "id": "H_Oy_iyESiyZ",
        "outputId": "d3045c73-0e70-4dd6-abc2-9690926bd2e0"
      },
      "outputs": [
        {
          "name": "stdout",
          "output_type": "stream",
          "text": [
            "4\n"
          ]
        }
      ],
      "source": [
        "print(2+2)"
      ]
    },
    {
      "cell_type": "code",
      "execution_count": null,
      "metadata": {
        "id": "MmL2zMD0Siya",
        "outputId": "a34fd330-2aeb-4135-f7dc-82bb9ff8af43"
      },
      "outputs": [
        {
          "data": {
            "text/plain": [
              "4"
            ]
          },
          "execution_count": 22,
          "metadata": {},
          "output_type": "execute_result"
        }
      ],
      "source": [
        "2+2"
      ]
    },
    {
      "cell_type": "markdown",
      "metadata": {
        "id": "-eUra2xDSiya"
      },
      "source": [
        "Outra coisa importante é que o Jupyter só permite examinar o valor da **última** expressão no código:"
      ]
    },
    {
      "cell_type": "code",
      "execution_count": null,
      "metadata": {
        "id": "ZaFtQjJ8Siya",
        "outputId": "78cc710d-c01e-4fbc-d323-b5ca1ad39d16"
      },
      "outputs": [
        {
          "data": {
            "text/plain": [
              "2.0"
            ]
          },
          "execution_count": 24,
          "metadata": {},
          "output_type": "execute_result"
        }
      ],
      "source": [
        "2+2\n",
        "2*3\n",
        "4/2"
      ]
    },
    {
      "cell_type": "markdown",
      "metadata": {
        "id": "X3XZBKrwSiya"
      },
      "source": [
        "_________\n",
        "_________\n",
        "__________"
      ]
    },
    {
      "cell_type": "markdown",
      "metadata": {
        "id": "h1z9JEwfSiya"
      },
      "source": [
        "## 3) Variáveis\n",
        "\n",
        "Seria legal se pudéssemos **guardar** o valor das operações matemáticas que fizemos acima, não é mesmo?\n",
        "\n",
        "Isso é possível com o uso das **variáveis**, que são um pedacinho da memória onde armazenamos as operações do Python\n",
        "\n",
        "\n",
        "Uma variável pode legar qualquer nome, mas existem algumas regras:\n",
        "\n",
        "- O Python **diferencia** maiúscula de minúscula (ex: \"variavel\" é diferente de \"Variavel\", \"VaRiAvEl\" ou \"VARIAVEL\")\n",
        "    - Dica: melhor usar letras minúsculas pra nomes de variáveis\n",
        "- O nome das variáveis **não** pode ter espaço! Use um underline ao invés de espaço: \"minha_variavel\" ao invés de \"minha variavel\"\n",
        "- É melhor que o nome da variável **não** tenha acento (ex: não usar o nome \"variável\")\n",
        "- Existem algumas palavras reservadas do Python, que **não** podem ser usadas como nome de variável, ex: and, or, if, else, lambda, etc.\n",
        "- Também **não** use nome de funções para variáveis (ex: print)\n",
        "- Dica geral: o nome de variavel fica preto em python!\n",
        "    - Se o nome que você for dar ficar colorido, melhor escolher outro nome!"
      ]
    },
    {
      "cell_type": "markdown",
      "metadata": {
        "id": "c3VUr8p-Siya"
      },
      "source": [
        "### Criando três variaveis\n",
        "\n",
        "Agora, vamos criar três variáveis para armazenar os valores dos cálculos matemáticos.\n",
        "\n",
        "**IMPORTANTE (dica): O sinal \"=\" é lido como \"recebe\", pois o que estamos fazendo é guardar o valor da operação matemática no pedacinho de memória com o nome da variável, então o pedacinho de memória recebe o valor indicado depois do sinal de \"=\"**\n",
        "\n",
        "Ou seja, lemos o código a seguir como:\n",
        "\n",
        "- A variável que demos o nome de \"meu_numero\", **recebe** o valor da operação \"2+3\" (que é 5);\n",
        "- A variável que demos o nome de \"variavel\", **recebe** o valor da operação \"1+1\" (que é 2);\n",
        "- A variável que demos o nome de \"x\", **recebe** o valor da operação \"2\\*3\" (que é 6);\n",
        "\n",
        "O código a seguir apenas cria as variáveis: note que não há nenhum output!"
      ]
    },
    {
      "cell_type": "code",
      "execution_count": null,
      "metadata": {
        "id": "bNlTkHPRSiyb"
      },
      "outputs": [],
      "source": [
        "resultado_da_operacao_2_mais_3 = 2+3"
      ]
    },
    {
      "cell_type": "code",
      "execution_count": null,
      "metadata": {
        "id": "jb0p95CgSiyb",
        "outputId": "7a57b399-fd72-4ca9-ceb0-33cbb46fd952"
      },
      "outputs": [
        {
          "data": {
            "text/plain": [
              "5"
            ]
          },
          "execution_count": 37,
          "metadata": {},
          "output_type": "execute_result"
        }
      ],
      "source": [
        "resultado_da_operacao_2_mais_3"
      ]
    },
    {
      "cell_type": "code",
      "execution_count": null,
      "metadata": {
        "id": "-Wv2H7KvSiyb"
      },
      "outputs": [],
      "source": [
        "Variavel = 2"
      ]
    },
    {
      "cell_type": "code",
      "execution_count": null,
      "metadata": {
        "id": "bhWeUI3uSiyb"
      },
      "outputs": [],
      "source": [
        "VARIAVEL = 20"
      ]
    },
    {
      "cell_type": "code",
      "execution_count": null,
      "metadata": {
        "id": "oTU9bz5ZSiyb",
        "outputId": "5e379c2c-e3a0-4830-e053-c122cac9215b"
      },
      "outputs": [
        {
          "data": {
            "text/plain": [
              "2"
            ]
          },
          "execution_count": 40,
          "metadata": {},
          "output_type": "execute_result"
        }
      ],
      "source": [
        "Variavel"
      ]
    },
    {
      "cell_type": "code",
      "execution_count": null,
      "metadata": {
        "id": "gCez6hixSiyb",
        "outputId": "e6ac5cf7-cea5-43be-d014-23fe32746f01"
      },
      "outputs": [
        {
          "data": {
            "text/plain": [
              "20"
            ]
          },
          "execution_count": 42,
          "metadata": {},
          "output_type": "execute_result"
        }
      ],
      "source": [
        "VARIAVEL"
      ]
    },
    {
      "cell_type": "code",
      "execution_count": null,
      "metadata": {
        "id": "JGfqBJrLSiyb"
      },
      "outputs": [],
      "source": [
        "meu_numero = 2+3\n",
        "variavel = 1+2\n",
        "x = 2*3"
      ]
    },
    {
      "cell_type": "markdown",
      "metadata": {
        "id": "gHYWgMCjSiyc"
      },
      "source": [
        "Para examinarmos o valor armazenado nas variáveis, podemos, individualmente, \"chamar\" a variável na célula:"
      ]
    },
    {
      "cell_type": "code",
      "execution_count": null,
      "metadata": {
        "id": "rN2_Jf3VSiyc",
        "outputId": "f932f145-6875-407c-e4fa-1a9e465307fc"
      },
      "outputs": [
        {
          "data": {
            "text/plain": [
              "5"
            ]
          },
          "execution_count": 28,
          "metadata": {},
          "output_type": "execute_result"
        }
      ],
      "source": [
        "meu_numero"
      ]
    },
    {
      "cell_type": "code",
      "execution_count": null,
      "metadata": {
        "id": "HN29ibtcSiyc",
        "outputId": "8da25e56-143e-4392-ce59-fbbe992acb19"
      },
      "outputs": [
        {
          "data": {
            "text/plain": [
              "6"
            ]
          },
          "execution_count": 29,
          "metadata": {},
          "output_type": "execute_result"
        }
      ],
      "source": [
        "x"
      ]
    },
    {
      "cell_type": "code",
      "execution_count": null,
      "metadata": {
        "id": "aSCkAgbjSiyc",
        "outputId": "1e642419-007c-4633-b32b-1cb4386198a2"
      },
      "outputs": [
        {
          "data": {
            "text/plain": [
              "3"
            ]
          },
          "execution_count": 30,
          "metadata": {},
          "output_type": "execute_result"
        }
      ],
      "source": [
        "variavel"
      ]
    },
    {
      "cell_type": "markdown",
      "metadata": {
        "id": "a02l0xaNSiyc"
      },
      "source": [
        "Se quisermos exibir o valor das 3 variáveis em seguida, podemos usar o print\n",
        "\n",
        "Note que de fato são exibidos os **valores armazenados nas variáveis!**"
      ]
    },
    {
      "cell_type": "code",
      "execution_count": null,
      "metadata": {
        "id": "WdaKoP9wSiyc",
        "outputId": "73a535ec-4058-4450-ae14-2146e527fb79"
      },
      "outputs": [
        {
          "name": "stdout",
          "output_type": "stream",
          "text": [
            "5\n",
            "3\n",
            "6\n"
          ]
        }
      ],
      "source": [
        "print(meu_numero)\n",
        "print(variavel)\n",
        "print(x)"
      ]
    },
    {
      "cell_type": "markdown",
      "metadata": {
        "id": "hZxa_rrTSiyc"
      },
      "source": [
        "Como o próprio nome diz, variáveis podem variar, ou seja, eu posso mudar o valor que tá armazenado na variável.\n",
        "\n",
        "Se, por exemplo, eu quiser que a variável \"x\" passe a receber o valor \"42\", eu faço simplesmente o código a seguir, que é lido como \"a variável x recebe o valor 42\"."
      ]
    },
    {
      "cell_type": "code",
      "execution_count": null,
      "metadata": {
        "id": "GqeICqfzSiyc",
        "outputId": "f7d57292-196e-43d0-d427-f54bbe1d7aa5"
      },
      "outputs": [
        {
          "data": {
            "text/plain": [
              "6"
            ]
          },
          "execution_count": 32,
          "metadata": {},
          "output_type": "execute_result"
        }
      ],
      "source": [
        "x"
      ]
    },
    {
      "cell_type": "code",
      "execution_count": null,
      "metadata": {
        "id": "2G0Vr__DSiyd"
      },
      "outputs": [],
      "source": [
        "x = 42"
      ]
    },
    {
      "cell_type": "markdown",
      "metadata": {
        "id": "ZiYN3OTvSiyd"
      },
      "source": [
        "Após fazer isso, o valor anterior (6), é completamente esquecido, e a variável x agora tem apenas o valor 42.\n",
        "\n",
        "Chamando a variável:"
      ]
    },
    {
      "cell_type": "code",
      "execution_count": null,
      "metadata": {
        "id": "VW74KuOkSiyd",
        "outputId": "8bf6200c-7f77-4bf3-c9ed-04b917b63e74"
      },
      "outputs": [
        {
          "data": {
            "text/plain": [
              "42"
            ]
          },
          "execution_count": 34,
          "metadata": {},
          "output_type": "execute_result"
        }
      ],
      "source": [
        "x"
      ]
    },
    {
      "cell_type": "code",
      "execution_count": null,
      "metadata": {
        "id": "SUMu-CySSiyd",
        "outputId": "2bedaa11-a1c8-435a-a1d3-baf8106bbc5d"
      },
      "outputs": [
        {
          "name": "stdout",
          "output_type": "stream",
          "text": [
            "Olá, André! Tudo bem?\n"
          ]
        }
      ],
      "source": [
        "print(\"Olá, André! Tudo bem?\")"
      ]
    },
    {
      "cell_type": "code",
      "execution_count": null,
      "metadata": {
        "id": "iD8uRKQtSiyd",
        "outputId": "8a12b21f-d60e-4ab4-d98e-966c3f90e4ce"
      },
      "outputs": [
        {
          "name": "stdout",
          "output_type": "stream",
          "text": [
            "um dois três\n"
          ]
        }
      ],
      "source": [
        "print(\"um\", \"dois\", \"três\")"
      ]
    },
    {
      "cell_type": "code",
      "execution_count": null,
      "metadata": {
        "id": "D49w4MZoSiyg",
        "outputId": "581dc252-0ee1-4935-bb44-79b00ee2a4a9"
      },
      "outputs": [
        {
          "name": "stdout",
          "output_type": "stream",
          "text": [
            "Olá, Maria! Tudo bem?\n"
          ]
        }
      ],
      "source": [
        "nome = \"Maria!\"\n",
        "\n",
        "print(\"Olá,\", nome, \"Tudo bem?\")"
      ]
    },
    {
      "cell_type": "markdown",
      "metadata": {
        "id": "KT2OusywSiyh"
      },
      "source": [
        "_________\n",
        "_________"
      ]
    }
  ],
  "metadata": {
    "kernelspec": {
      "display_name": "Python 3 (ipykernel)",
      "language": "python",
      "name": "python3"
    },
    "language_info": {
      "codemirror_mode": {
        "name": "ipython",
        "version": 3
      },
      "file_extension": ".py",
      "mimetype": "text/x-python",
      "name": "python",
      "nbconvert_exporter": "python",
      "pygments_lexer": "ipython3",
      "version": "3.9.13"
    },
    "colab": {
      "provenance": []
    }
  },
  "nbformat": 4,
  "nbformat_minor": 0
}