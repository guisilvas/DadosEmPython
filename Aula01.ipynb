{
 "cells": [
  {
   "cell_type": "markdown",
   "metadata": {},
   "source": [
    "# Aula 01 - Python básico I\n",
    "\n",
    "---\n",
    "\n",
    "Material da aula: https://drive.google.com/drive/folders/1HgWmz8zli2gKH0ZOBldfHfSbkp9syTo3\n",
    "\n",
    "---\n",
    "\n",
    "## 1) Tipos de variáveis\n",
    "\n",
    "Dados do tipo **integer(int)** podem ser positivos ou negativos\n",
    "- Ex:\n",
    "    - 1\n",
    "    - -3232\n",
    "    - 0\n",
    "    - -31\n",
    "\n",
    "Dados do tipo decimal, **ponto flutuante(float)** possuem um ponto\n",
    "- Ex:\n",
    "    - 3.1415\n",
    "    - 1.00004\n",
    "    - 0.53\n",
    "    - -43.34\n",
    "\n",
    "Dados do tipo **string(str)** podem ser aspas simples ou duplas\n",
    "- Ex:\n",
    "    - \"Hello, world!\"\n",
    "    - '12'\n",
    "    - \"3.1415\"\n",
    "    - \"John: 'How are you?'\"\n",
    "\n",
    "Dados do tipo **boleano(bool)** significa ligado e desligado do binário\n",
    "- Ex:\n",
    "    - True ou False\n"
   ]
  },
  {
   "cell_type": "code",
   "execution_count": 3,
   "metadata": {},
   "outputs": [
    {
     "data": {
      "text/plain": [
       "str"
      ]
     },
     "execution_count": 3,
     "metadata": {},
     "output_type": "execute_result"
    }
   ],
   "source": [
    "numberInt = 2\n",
    "type(numberInt)\n",
    "\n",
    "numberFloat = 3.1415\n",
    "type(numberFloat)\n",
    "\n",
    "textStr = \"Hello, world!\"\n",
    "type(textStr)"
   ]
  },
  {
   "cell_type": "markdown",
   "metadata": {},
   "source": [
    "## 2) Comentários\n",
    "Servem para comentar/documentar dentro do código.\n",
    "\n",
    "- Atalho: **ctr + ;**"
   ]
  },
  {
   "cell_type": "code",
   "execution_count": null,
   "metadata": {},
   "outputs": [],
   "source": [
    "# Comentando em Python.\n",
    "\n",
    "\"\"\"\n",
    "Assim\n",
    "também\n",
    "é possível!\n",
    "\"\"\""
   ]
  },
  {
   "cell_type": "markdown",
   "metadata": {},
   "source": [
    "### String com 3 aspas\n",
    "As strings com 3 aspas são docstrings. Strings para documentação que reconhecem quebra de linha.\n",
    "\n",
    "*Comentar com \"\"\" 3 aspas \"\"\" não é o mais correto a se utilizar pois o Python identifica como uma string descartada. E não um comentário.*\n",
    "\n",
    "## 3) Saída (output)\n",
    "Saída de dados\n",
    "\n",
    "print() mostra algo na tela\n",
    "\n",
    "/n quebra linha\n",
    "\n"
   ]
  },
  {
   "cell_type": "code",
   "execution_count": 12,
   "metadata": {},
   "outputs": [
    {
     "name": "stdout",
     "output_type": "stream",
     "text": [
      "Welcome\n",
      "Welcome Joseph\n",
      "Pedro\n",
      "Welcome, Joseph, Pedro\n"
     ]
    }
   ],
   "source": [
    "# sep=\" \" é a maneira como os dados serão mostrados\n",
    "\n",
    "variable = \"Welcome\"\n",
    "print(variable)\n",
    "\n",
    "name = \"Joseph\"\n",
    "print(variable, name)\n",
    "\n",
    "name2 = \"Pedro\"\n",
    "print(name2)\n",
    "\n",
    "print(variable, name, name2, sep=\", \")\n"
   ]
  },
  {
   "cell_type": "markdown",
   "metadata": {},
   "source": [
    "# 4) Entrada (input)\n",
    "Entrada de dados pelo usuário\n",
    "\n",
    "input() recebe dados"
   ]
  },
  {
   "cell_type": "code",
   "execution_count": 1,
   "metadata": {},
   "outputs": [],
   "source": [
    "nameNew = input()\n",
    "print(nameNew)\n",
    "\n",
    "username = input(\"Insert your name: \")\n",
    "print(f\"Username = {username}\")\n",
    "\n",
    "ageUser = input(int(\"Insert your age: \"))\n",
    "print(f\"Your age is {ageUser}\")"
   ]
  },
  {
   "cell_type": "markdown",
   "metadata": {},
   "source": [
    "# 5) Operadores Aritméticos\n",
    "Opreações matemáticas em Python\n",
    "\n",
    "- Soma: +\n",
    "- Subtração: -\n",
    "- Multiplicação: *\n",
    "- Divisão: /\n",
    "- Potenciação: **\n",
    "- Resto: %\n",
    "- Parte inteira da divisão: //\n",
    "\n",
    "*Se o resto da divisão de um número por 2 é 0 ele é **PAR**, se for 1 ele é **ÍMPAR**.*"
   ]
  },
  {
   "cell_type": "code",
   "execution_count": 8,
   "metadata": {},
   "outputs": [
    {
     "name": "stdout",
     "output_type": "stream",
     "text": [
      "2\n",
      "-1\n",
      "6\n",
      "3.0\n",
      "4\n",
      "1\n",
      "2\n",
      "3\n"
     ]
    }
   ],
   "source": [
    "#Soma\n",
    "sum = 1 + 1\n",
    "print(sum)\n",
    "\n",
    "#Subtração\n",
    "sub = 2 - 3\n",
    "print(sub)\n",
    "\n",
    "#Multiplicação\n",
    "mult = 2 * 3\n",
    "print(mult)\n",
    "\n",
    "#Divisão\n",
    "div = 6 / 2\n",
    "print(div)\n",
    "\n",
    "#Potenciação\n",
    "pot = 2 ** 2\n",
    "print(pot)\n",
    "\n",
    "#Resto\n",
    "rest = 3 % 2\n",
    "print(rest)\n",
    "\n",
    "#Parte inteira\n",
    "part = 5 // 2\n",
    "print(part)\n",
    "\n",
    "#Divisão por 0 ocorre erro\n",
    "# zero = 2 / 0\n",
    "# print(zero)\n",
    "\n",
    "a = 11\n",
    "b = 4\n",
    "print(a % b)"
   ]
  },
  {
   "cell_type": "code",
   "execution_count": 20,
   "metadata": {},
   "outputs": [],
   "source": [
    "# Problema gerador: Criar uma calculadora em Python\n",
    "while (comecar == \"sim\") or (comecar == \"Sim\") or (comecar == \"SIM\")or (comecar == \"S\") or (comecar == \"s\") or (comecar == \"SIm\") or (comecar == \"SiM\") or (comecar == \"sIM\") or (comecar == \"sIM\"):\n",
    "    comecar = input(\"Para calcular digite primeiro a operação que deseja realizar e depois dois números. Após a primeira operação o resultado fica salvo, você pode zerá-lo com a opção de numeral '0' ou continuar calculando selecionando uma operação. Entendeu?\\n Digite: sim ou nao\")\n",
    "    if (comecar == \"sim\") or (comecar == \"Sim\") or (comecar == \"SIM\")or (comecar == \"S\") or (comecar == \"s\") or (comecar == \"SIm\") or (comecar == \"SiM\") or (comecar == \"sIM\") or (comecar == \"sIM\"):\n",
    "        i = 0\n",
    "        print(\"~\"*25)\n",
    "        print(\"  Calculadora em Python\")\n",
    "        print(\"~\"*25)\n",
    "        print(\"Operações:\\n  0- Zerar\\n  1-  Soma\\n  2-  Subtração\\n  3-  Multiplicação\\n  4-  Divisão\\n  5-  Exponenciação\\n  6-  Resto\\n  7-  Parte inteira\\n  8-  Paridade\\n  9-  Módulo\\n 10-  Sair\")\n",
    "        print(\"~\"*25)\n",
    "        while i > 5:\n",
    "            if (i == 1):\n",
    "                print(\"oi\")\n",
    "    elif (comecar == \"nao\") or (comecar == \"Nao\") or (comecar == \"NAO\")or (comecar == \"N\") or (comecar == \"n\") or (comecar == \"Nao\") or (comecar == \"NaO\") or (comecar == \"nAO\") or (comecar == \"nAo\") or (comecar == \"não\") or (comecar == \"Não\") or (comecar == \"NÂO\"):\n",
    "        print(\"Leia atentamente as instruções!\")\n",
    "    else:\n",
    "        print(\"Insira uma resposta válida.\")\n"
   ]
  }
 ],
 "metadata": {
  "kernelspec": {
   "display_name": "Python 3",
   "language": "python",
   "name": "python3"
  },
  "language_info": {
   "codemirror_mode": {
    "name": "ipython",
    "version": 3
   },
   "file_extension": ".py",
   "mimetype": "text/x-python",
   "name": "python",
   "nbconvert_exporter": "python",
   "pygments_lexer": "ipython3",
   "version": "3.11.0"
  }
 },
 "nbformat": 4,
 "nbformat_minor": 2
}
