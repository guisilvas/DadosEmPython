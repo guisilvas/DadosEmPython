{
 "cells": [
  {
   "cell_type": "markdown",
   "metadata": {},
   "source": [
    "# Aula 03 - Listas e Loop\n",
    "\n",
    "---\n",
    "\n",
    "Material da aula: https://drive.google.com/drive/folders/1UEe_bHCxv2dxqd5RtQAJP4pYOoBHljmp\n",
    "\n",
    "---\n",
    "\n",
    "## 1) Listas\n",
    "Listas são espaços na memória que guardam dados(variáveis e/ou constantes), assim como as variáveis, porém, mais de um dado.\n",
    "\n",
    "\n",
    "Elas podem armazenar qualquer dado e diferentes dados em uma mesma lista e até outras listas."
   ]
  },
  {
   "cell_type": "code",
   "execution_count": 4,
   "metadata": {},
   "outputs": [
    {
     "data": {
      "text/plain": [
       "['a', 'b', 'c', [1, 2, 3], 'e', 'f']"
      ]
     },
     "execution_count": 4,
     "metadata": {},
     "output_type": "execute_result"
    }
   ],
   "source": [
    "list1 = [0, 1, 2, 3, 4, 5]\n",
    "list1\n",
    "\n",
    "list2 = [\"a\", \"b\", \"c\", 1, -2, -3, 0.4, 10.0, True]\n",
    "list2\n",
    "\n",
    "list3 = [\"a\", \"b\", \"c\", [1, 2, 3], \"e\", \"f\"]\n",
    "list3"
   ]
  },
  {
   "cell_type": "markdown",
   "metadata": {},
   "source": [
    "### - Índice da lista\n",
    "\n",
    "\n",
    "Endereço de cada dado dentro da lista.\n",
    "\n",
    "O primeiro elemento tem o índice 0 e o último o índice -1."
   ]
  },
  {
   "cell_type": "code",
   "execution_count": 9,
   "metadata": {},
   "outputs": [
    {
     "data": {
      "text/plain": [
       "[1, 2, 3]"
      ]
     },
     "execution_count": 9,
     "metadata": {},
     "output_type": "execute_result"
    }
   ],
   "source": [
    "myList = [\"John\", \"Pedro\", \"Samuel\", \"Anderson\"]\n",
    "myList[1]\n",
    "myList[0]\n",
    "\n",
    "myList2 = [1, 3, 5, 7, 9, 11]\n",
    "myList2[-2]\n",
    "\n",
    "myList3 = [\"a\", \"b\", \"c\", [1, 2, 3], \"e\", \"f\"]\n",
    "myList3[3]"
   ]
  },
  {
   "cell_type": "markdown",
   "metadata": {},
   "source": [
    "### Slicing (fatias da lista)\n",
    "Pegar apenas uma parte da lista."
   ]
  },
  {
   "cell_type": "code",
   "execution_count": 19,
   "metadata": {},
   "outputs": [
    {
     "name": "stdout",
     "output_type": "stream",
     "text": [
      "b\n"
     ]
    }
   ],
   "source": [
    "# Do primeiro elemento até o terceiro, 0:4 porque o primeiro intervalo é fechado e o segundo é aberto\n",
    "myList3 = [\"a\", \"b\", \"c\", [1, 2, 3], \"e\", \"f\"]\n",
    "myList3[0:4]\n",
    "\n",
    "# Pegar até o elemento de índice 2\n",
    "myList4 = [1, 2, 3, 4, 5, 6, 7, 8, 9]\n",
    "myList4[:3]\n",
    "\n",
    "# Pegar a partir do elemento de índice 4\n",
    "myList4 = [1, 2, 3, 4, 5, 6, 7, 8, 9]\n",
    "myList4[4:]\n",
    "\n",
    "# Pegar um elemento de uma lista dentro de outra lista\n",
    "# Pega o elemento de índice -4 que é uma lista e pega o elemento de índice 1 dessa lista\n",
    "myList5 = [0, 1, 2, 3, [\"a\", \"b\", \"c\"], 5, 6, 7]\n",
    "print(myList5[-4][1])"
   ]
  },
  {
   "cell_type": "markdown",
   "metadata": {},
   "source": [
    "### Operações com listas"
   ]
  },
  {
   "cell_type": "code",
   "execution_count": 1,
   "metadata": {},
   "outputs": [
    {
     "name": "stdout",
     "output_type": "stream",
     "text": [
      "[1, 2, 3, 10, 20, 30]\n"
     ]
    }
   ],
   "source": [
    "# + concateca as listas\n",
    "list01 = [1, 2, 3]\n",
    "list02 = [10, 20, 30]\n",
    "\n",
    "print(list01 + list02)"
   ]
  },
  {
   "cell_type": "code",
   "execution_count": 2,
   "metadata": {},
   "outputs": [
    {
     "name": "stdout",
     "output_type": "stream",
     "text": [
      "[1, 2, 3, 1, 2, 3, 1, 2, 3]\n"
     ]
    }
   ],
   "source": [
    "# * multiplica o número de elemento(s)\n",
    "list03 = [1, 2, 3]\n",
    "\n",
    "print(list03 * 3)"
   ]
  },
  {
   "cell_type": "markdown",
   "metadata": {},
   "source": [
    "## Funções de lista\n",
    "\n",
    "**append** - adiciona um elemento por vez ao final da lista"
   ]
  },
  {
   "cell_type": "code",
   "execution_count": 5,
   "metadata": {},
   "outputs": [
    {
     "name": "stdout",
     "output_type": "stream",
     "text": [
      "[]\n",
      "[2]\n",
      "[2, 'hello']\n",
      "[2, 'hello', 3.14]\n"
     ]
    }
   ],
   "source": [
    "list001 = []\n",
    "print(list001)\n",
    "\n",
    "list001.append(2)\n",
    "print(list001)\n",
    "\n",
    "list001.append(\"hello\")\n",
    "print(list001)\n",
    "\n",
    "list001.append(3.14)\n",
    "print(list001)"
   ]
  },
  {
   "cell_type": "markdown",
   "metadata": {},
   "source": [
    "**insert** - adiciona um elemento a um índice específico"
   ]
  },
  {
   "cell_type": "code",
   "execution_count": 10,
   "metadata": {},
   "outputs": [
    {
     "name": "stdout",
     "output_type": "stream",
     "text": [
      "[]\n",
      "[0, 1, 2, 3]\n",
      "[0, 'hello', 1, 2, 3]\n"
     ]
    },
    {
     "data": {
      "text/plain": [
       "[0, 'hello', 3, 4, 2, 3]"
      ]
     },
     "execution_count": 10,
     "metadata": {},
     "output_type": "execute_result"
    }
   ],
   "source": [
    "list002 = []\n",
    "print(list002)\n",
    "\n",
    "list002.append(0)\n",
    "list002.append(1)\n",
    "list002.append(2)\n",
    "list002.append(3)\n",
    "print(list002)\n",
    "\n",
    "list002.insert(1,\"hello\")\n",
    "print(list002)\n",
    "\n",
    "# Alterar o elemento de um índice já povoado\n",
    "list002.insert(2,True)\n",
    "list002\n",
    "\n",
    "# Redefinir um valor de um índice com uma operação\n",
    "list002[2] = list002[2] + 2\n",
    "list002\n",
    "\n",
    "list002[3] = list002[3] * 4\n",
    "list002"
   ]
  },
  {
   "cell_type": "markdown",
   "metadata": {},
   "source": [
    "**remove** - remover elementos da lista, se tiver elementos iguais ele remove o primeiro elemento"
   ]
  },
  {
   "cell_type": "code",
   "execution_count": 12,
   "metadata": {},
   "outputs": [
    {
     "data": {
      "text/plain": [
       "[0, 2, 3.14, 'name', False, False]"
      ]
     },
     "execution_count": 12,
     "metadata": {},
     "output_type": "execute_result"
    }
   ],
   "source": [
    "list003 = [0, 1, 2, 3.14, \"name\", False, False]\n",
    "list003.remove(1)\n",
    "\n",
    "list003"
   ]
  },
  {
   "cell_type": "markdown",
   "metadata": {},
   "source": [
    "**pop** - remove um elemento de um índice "
   ]
  },
  {
   "cell_type": "code",
   "execution_count": 16,
   "metadata": {},
   "outputs": [
    {
     "data": {
      "text/plain": [
       "['b', 'c', 'd', 1, 2]"
      ]
     },
     "execution_count": 16,
     "metadata": {},
     "output_type": "execute_result"
    }
   ],
   "source": [
    "list004 = [\"a\", \"b\", \"c\"]\n",
    "list004.pop(0)\n",
    "\n",
    "list004\n",
    "\n",
    "list004.append(1)\n",
    "list004.append(2)\n",
    "list004.append(3)\n",
    "list004.insert(2,\"d\")\n",
    "list004\n",
    "\n",
    "list004.pop(5)\n",
    "list004"
   ]
  },
  {
   "cell_type": "markdown",
   "metadata": {},
   "source": [
    "### Ordenar uma lista\n",
    "\n",
    "**sorted** - ordena por comparação em ordem crescente ou lexicográfica"
   ]
  },
  {
   "cell_type": "code",
   "execution_count": 31,
   "metadata": {},
   "outputs": [
    {
     "name": "stdout",
     "output_type": "stream",
     "text": [
      "[0, 1, 2, 4, 5, 7, 9, 90, 365]\n"
     ]
    },
    {
     "data": {
      "text/plain": [
       "['e', 'd', 'c', 'b', 'a']"
      ]
     },
     "execution_count": 31,
     "metadata": {},
     "output_type": "execute_result"
    }
   ],
   "source": [
    "list005 = [0, 9, 1, 7, 2, 365, 90, 4, 5]\n",
    "list005\n",
    "print(sorted(list005))\n",
    "\n",
    "list006 = [\"duck\", \"aligator\", \"bee\", \"bear\", \"chicken\" \"dolphin\"]\n",
    "sorted(list006)\n",
    "\n",
    "# O [::-1] inverte a ordem da lista\n",
    "list007 = [\"c\", \"a\", \"d\", \"b\", \"e\"]\n",
    "list007[::-1]\n",
    "\n",
    "sorted(list007)[::-1]\n"
   ]
  },
  {
   "cell_type": "markdown",
   "metadata": {},
   "source": [
    "**index** - visualizar o índice de um elemento da lista"
   ]
  },
  {
   "cell_type": "code",
   "execution_count": 32,
   "metadata": {},
   "outputs": [
    {
     "data": {
      "text/plain": [
       "1"
      ]
     },
     "execution_count": 32,
     "metadata": {},
     "output_type": "execute_result"
    }
   ],
   "source": [
    "# Ver a posição de um elemento\n",
    "list007 = [\"c\", \"a\", \"d\", \"b\", \"e\"]\n",
    "list007.index(\"a\")"
   ]
  },
  {
   "cell_type": "markdown",
   "metadata": {},
   "source": [
    "**max e min** - ver o maior e menor elemento"
   ]
  },
  {
   "cell_type": "code",
   "execution_count": 34,
   "metadata": {},
   "outputs": [
    {
     "data": {
      "text/plain": [
       "'a'"
      ]
     },
     "execution_count": 34,
     "metadata": {},
     "output_type": "execute_result"
    }
   ],
   "source": [
    "max(list007)\n",
    "\n",
    "min(list007)"
   ]
  },
  {
   "cell_type": "markdown",
   "metadata": {},
   "source": [
    "**len**- número de elementos da lista"
   ]
  },
  {
   "cell_type": "code",
   "execution_count": 36,
   "metadata": {},
   "outputs": [
    {
     "data": {
      "text/plain": [
       "4"
      ]
     },
     "execution_count": 36,
     "metadata": {},
     "output_type": "execute_result"
    }
   ],
   "source": [
    "list008 = [1, 1, 13, -3]\n",
    "len(list008)"
   ]
  },
  {
   "cell_type": "markdown",
   "metadata": {},
   "source": [
    "**sum** - soma dos elementos"
   ]
  },
  {
   "cell_type": "code",
   "execution_count": 38,
   "metadata": {},
   "outputs": [
    {
     "data": {
      "text/plain": [
       "30.0"
      ]
     },
     "execution_count": 38,
     "metadata": {},
     "output_type": "execute_result"
    }
   ],
   "source": [
    "sum(list008)\n",
    "\n",
    "# Calcular a média entre os elementos de uma lista\n",
    "list009 = [10, 20, 30, 40, 50]\n",
    "sum(list009)/len(list009)"
   ]
  },
  {
   "cell_type": "markdown",
   "metadata": {},
   "source": [
    "**Problema: usuário digitar suas notas e gerar a média dessas notas**"
   ]
  },
  {
   "cell_type": "code",
   "execution_count": 39,
   "metadata": {},
   "outputs": [],
   "source": [
    "grades = int(input(\"Insira o número de notas: \"))\n",
    "gradesList = []\n",
    "i = 0\n",
    "\n",
    "while i < grades:\n",
    "    gradesList.append(float(input(\"Insira a nota: \")))\n",
    "    i += 1\n",
    "\n",
    "media = sum(gradesList)/len(gradesList)\n",
    "print(media)git"
   ]
  },
  {
   "cell_type": "markdown",
   "metadata": {},
   "source": [
    "### Iterador for"
   ]
  },
  {
   "cell_type": "code",
   "execution_count": null,
   "metadata": {},
   "outputs": [],
   "source": [
    "# Problema: usuário digitar suas notas e gerar a média dessas notas\n",
    "grades = int(input(\"Insira o número de notas: \"))\n",
    "\n",
    "\n",
    "for(grades):\n",
    "    \n",
    "    grades.append(input(\"Insira a nota: \"))\n"
   ]
  }
 ],
 "metadata": {
  "kernelspec": {
   "display_name": "Python 3",
   "language": "python",
   "name": "python3"
  },
  "language_info": {
   "codemirror_mode": {
    "name": "ipython",
    "version": 3
   },
   "file_extension": ".py",
   "mimetype": "text/x-python",
   "name": "python",
   "nbconvert_exporter": "python",
   "pygments_lexer": "ipython3",
   "version": "3.11.0"
  }
 },
 "nbformat": 4,
 "nbformat_minor": 2
}
