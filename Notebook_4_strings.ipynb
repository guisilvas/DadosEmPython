{
  "cells": [
    {
      "cell_type": "markdown",
      "metadata": {
        "id": "f0abWnBg1Uae"
      },
      "source": [
        "# Aula 4 - strings\n",
        "\n",
        "**Função nomeDaFunção(): print()**\n",
        "\n",
        "**Método .nomeDoMétodo: print(\"Hello World!\".center(50))**\n",
        "\n",
        "\n",
        "\n",
        "Na aula de hoje, vamos explorar os seguintes tópicos em Python:\n",
        "\n",
        "- 1) Strings\n",
        "- 2) Funções de Strings\n",
        "    - 2.1) Formatação de strings\n",
        "_______\n"
      ]
    },
    {
      "cell_type": "markdown",
      "metadata": {
        "id": "MnGET8hX1Uah"
      },
      "source": [
        "____\n",
        "____\n",
        "____"
      ]
    },
    {
      "cell_type": "markdown",
      "metadata": {
        "id": "8pUTFIaZ1Uai"
      },
      "source": [
        "## 1) Strings\n",
        "\n",
        "Desde a primeira aula, temos trabalhado com strings, que, como vimos, representam **dados textuais**\n",
        "\n",
        "Vamos, agora, olhar pra strings um pouco mais a fundo, e aprender algumas funções para trabalharmos com strings"
      ]
    },
    {
      "cell_type": "markdown",
      "metadata": {
        "id": "TB_GtSF91Uai"
      },
      "source": [
        "Uma string nada mais é do que uma **coleção de caracteres**!\n",
        "\n",
        "Assim, podemos acessar caracteres específicos ou então um intervalo de caracteres de uma string, como se fosse uma lista!\n",
        "\n",
        "**OBS.: Para strings também, o índice começa em 0, e podemos usar índices negativos!**"
      ]
    },
    {
      "cell_type": "code",
      "execution_count": 1,
      "metadata": {
        "id": "8sIHi-l21Uaj"
      },
      "outputs": [
        {
          "name": "stdout",
          "output_type": "stream",
          "text": [
            "J\n"
          ]
        }
      ],
      "source": [
        "name = 'John'\n",
        "print(name[0])"
      ]
    },
    {
      "cell_type": "markdown",
      "metadata": {
        "id": "KW7_jax51Uaj"
      },
      "source": [
        "Para saber o comprimento de uma string (quantos caracteres ela tem, incluindo espaços e pontuações), use a função len():"
      ]
    },
    {
      "cell_type": "code",
      "execution_count": 2,
      "metadata": {
        "id": "BLmQ324i1Uak"
      },
      "outputs": [
        {
          "data": {
            "text/plain": [
              "4"
            ]
          },
          "execution_count": 2,
          "metadata": {},
          "output_type": "execute_result"
        }
      ],
      "source": [
        "len(name)"
      ]
    },
    {
      "cell_type": "markdown",
      "metadata": {
        "id": "XfEXbi2x1Uak"
      },
      "source": [
        "Podemos também percorrer cada caractere da string com o `for` -- strings são objetos **iteráveis**:"
      ]
    },
    {
      "cell_type": "code",
      "execution_count": 3,
      "metadata": {
        "id": "Kty31VLK1Uak"
      },
      "outputs": [
        {
          "name": "stdout",
          "output_type": "stream",
          "text": [
            "J\n",
            "o\n",
            "h\n",
            "n\n"
          ]
        }
      ],
      "source": [
        "for item in name:\n",
        "    print(item)"
      ]
    },
    {
      "cell_type": "markdown",
      "metadata": {
        "id": "6SFRnMGj1Uak"
      },
      "source": [
        "Dá pra fazer o mesmo com o range() e o len():"
      ]
    },
    {
      "cell_type": "code",
      "execution_count": 8,
      "metadata": {
        "id": "Cs7mjf_L1Uak"
      },
      "outputs": [
        {
          "name": "stdout",
          "output_type": "stream",
          "text": [
            "J\n",
            "o\n",
            "h\n",
            "n\n"
          ]
        }
      ],
      "source": [
        "for i in range(len(name)):\n",
        "    print(name[i])"
      ]
    },
    {
      "cell_type": "markdown",
      "metadata": {
        "id": "lEpmBwvM1Ual"
      },
      "source": [
        "Apesar de se parecer com uma lista, a string não tem exatamente as propriedades de uma lista. Por exemplo, **não podemos alterar** caracteres individualmente:"
      ]
    },
    {
      "cell_type": "code",
      "execution_count": 4,
      "metadata": {
        "id": "kwAZ0otg1Ual"
      },
      "outputs": [
        {
          "ename": "TypeError",
          "evalue": "'str' object does not support item assignment",
          "output_type": "error",
          "traceback": [
            "\u001b[1;31m---------------------------------------------------------------------------\u001b[0m",
            "\u001b[1;31mTypeError\u001b[0m                                 Traceback (most recent call last)",
            "Cell \u001b[1;32mIn[4], line 9\u001b[0m\n\u001b[0;32m      6\u001b[0m name2 \u001b[38;5;241m=\u001b[39m \u001b[38;5;124m'\u001b[39m\u001b[38;5;124mMarie\u001b[39m\u001b[38;5;124m'\u001b[39m\n\u001b[0;32m      7\u001b[0m name2[\u001b[38;5;241m-\u001b[39m\u001b[38;5;241m1\u001b[39m]\n\u001b[1;32m----> 9\u001b[0m \u001b[43mname2\u001b[49m\u001b[43m[\u001b[49m\u001b[38;5;241;43m-\u001b[39;49m\u001b[38;5;241;43m1\u001b[39;49m\u001b[43m]\u001b[49m \u001b[38;5;241m=\u001b[39m \u001b[38;5;124m'\u001b[39m\u001b[38;5;124ma\u001b[39m\u001b[38;5;124m'\u001b[39m\n\u001b[0;32m     10\u001b[0m name2\n",
            "\u001b[1;31mTypeError\u001b[0m: 'str' object does not support item assignment"
          ]
        }
      ],
      "source": [
        "myList = [0, 1, 2, 3]\n",
        "myList[-1] = 4\n",
        "\n",
        "myList\n",
        "\n",
        "name2 = 'Marie'\n",
        "name2[-1]\n",
        "\n",
        "name2[-1] = 'a'\n",
        "name2"
      ]
    },
    {
      "cell_type": "markdown",
      "metadata": {
        "id": "HRRdTvWa1Ual"
      },
      "source": [
        "Mas nós conseguimos **alterar caracteres (ou palavras)** com o método \"replace()\":"
      ]
    },
    {
      "cell_type": "code",
      "execution_count": 7,
      "metadata": {
        "id": "3EszXXxD1Ual"
      },
      "outputs": [
        {
          "data": {
            "text/plain": [
              "'MariE'"
            ]
          },
          "execution_count": 7,
          "metadata": {},
          "output_type": "execute_result"
        }
      ],
      "source": [
        "name2.replace('e', 'E')\n",
        "\n",
        "name2 = name2.replace('e', 'E')\n",
        "name2"
      ]
    },
    {
      "cell_type": "markdown",
      "metadata": {
        "id": "M3vp9h6I1Ual"
      },
      "source": [
        "Podemos **transformar uma string em uma lista de caracteres**, explicitamente, usando a fução \"list()\""
      ]
    },
    {
      "cell_type": "code",
      "execution_count": 6,
      "metadata": {
        "id": "K9MnitZh1Ual"
      },
      "outputs": [
        {
          "data": {
            "text/plain": [
              "['M', 'a', 'r', 'i', 'e']"
            ]
          },
          "execution_count": 6,
          "metadata": {},
          "output_type": "execute_result"
        }
      ],
      "source": [
        "list(name2)\n"
      ]
    },
    {
      "cell_type": "markdown",
      "metadata": {
        "id": "hT-N1Ue11Ual"
      },
      "source": [
        "Agora sim, podemos alterar um elemento da lista:"
      ]
    },
    {
      "cell_type": "code",
      "execution_count": 9,
      "metadata": {
        "id": "yAQFF9D91Ual"
      },
      "outputs": [
        {
          "data": {
            "text/plain": [
              "['M', 'a', 'r', 'i', 'a']"
            ]
          },
          "execution_count": 9,
          "metadata": {},
          "output_type": "execute_result"
        }
      ],
      "source": [
        "myList2 = list(name2)\n",
        "myList2[-1] = 'a'\n",
        "myList2"
      ]
    },
    {
      "cell_type": "markdown",
      "metadata": {
        "id": "V1y6_9uM1Ual"
      },
      "source": [
        "E, pra trasnformar a lista de volta pra string, usamos a função \"join()\":"
      ]
    },
    {
      "cell_type": "code",
      "execution_count": 14,
      "metadata": {
        "id": "k5nb0Ord1Ual"
      },
      "outputs": [
        {
          "data": {
            "text/plain": [
              "'M+a+r+i+a'"
            ]
          },
          "execution_count": 14,
          "metadata": {},
          "output_type": "execute_result"
        }
      ],
      "source": [
        "\"\".join(myList2)\n",
        "\n",
        "\"+\".join(myList2)"
      ]
    },
    {
      "cell_type": "markdown",
      "metadata": {
        "id": "JoUZBRCK1Uam"
      },
      "source": [
        "Um exemplo do uso do .join() pra juntar os números de uma lista em um único numero"
      ]
    },
    {
      "cell_type": "code",
      "execution_count": 11,
      "metadata": {
        "id": "WJ03aIwL1Uam"
      },
      "outputs": [
        {
          "ename": "TypeError",
          "evalue": "sequence item 0: expected str instance, int found",
          "output_type": "error",
          "traceback": [
            "\u001b[1;31m---------------------------------------------------------------------------\u001b[0m",
            "\u001b[1;31mTypeError\u001b[0m                                 Traceback (most recent call last)",
            "Cell \u001b[1;32mIn[11], line 2\u001b[0m\n\u001b[0;32m      1\u001b[0m numList \u001b[38;5;241m=\u001b[39m [\u001b[38;5;241m2\u001b[39m, \u001b[38;5;241m3\u001b[39m, \u001b[38;5;241m5\u001b[39m, \u001b[38;5;241m7\u001b[39m, \u001b[38;5;241m11\u001b[39m, \u001b[38;5;241m13\u001b[39m, \u001b[38;5;241m17\u001b[39m]\n\u001b[1;32m----> 2\u001b[0m \u001b[38;5;124;43m\"\u001b[39;49m\u001b[38;5;124;43m\"\u001b[39;49m\u001b[38;5;241;43m.\u001b[39;49m\u001b[43mjoin\u001b[49m\u001b[43m(\u001b[49m\u001b[43mnumList\u001b[49m\u001b[43m)\u001b[49m\n\u001b[0;32m      3\u001b[0m numList\n",
            "\u001b[1;31mTypeError\u001b[0m: sequence item 0: expected str instance, int found"
          ]
        }
      ],
      "source": [
        "numList = [2, 3, 5, 7, 11, 13, 17]\n",
        "\"\".join(numList)\n",
        "numList"
      ]
    },
    {
      "cell_type": "markdown",
      "metadata": {
        "id": "G0-0UEP61Uam"
      },
      "source": [
        "Como já vimos, podemos fazer **operações com strings**:"
      ]
    },
    {
      "cell_type": "markdown",
      "metadata": {
        "id": "8XwlkDvd1Uam"
      },
      "source": [
        "Soma de strings: ao somar duas strings, elas são concatenadas:"
      ]
    },
    {
      "cell_type": "code",
      "execution_count": 15,
      "metadata": {
        "id": "tSdm138z1Uam"
      },
      "outputs": [
        {
          "data": {
            "text/plain": [
              "'ab'"
            ]
          },
          "execution_count": 15,
          "metadata": {},
          "output_type": "execute_result"
        }
      ],
      "source": [
        "\"a\" + \"b\""
      ]
    },
    {
      "cell_type": "markdown",
      "metadata": {
        "id": "oKynqiuI1Uam"
      },
      "source": [
        "Multiplicação de string por inteiro: ao multiplicar uma string por um número inteiro, a string é repetida:"
      ]
    },
    {
      "cell_type": "code",
      "execution_count": 20,
      "metadata": {
        "id": "qYq0PNwp1Uam"
      },
      "outputs": [
        {
          "name": "stdout",
          "output_type": "stream",
          "text": [
            "____________________________________________________________________________________________________\n",
            "====================================================================================================\n",
            "                                        Welcome to ADA TECH                                         \n",
            "====================================================================================================\n"
          ]
        }
      ],
      "source": [
        "\"c\"*10"
      ]
    },
    {
      "cell_type": "code",
      "execution_count": null,
      "metadata": {},
      "outputs": [],
      "source": [
        "print('_'*100)"
      ]
    },
    {
      "cell_type": "code",
      "execution_count": 21,
      "metadata": {},
      "outputs": [
        {
          "name": "stdout",
          "output_type": "stream",
          "text": [
            "====================================================================================================\n",
            "                                        Welcome to ADA TECH                                         \n",
            "====================================================================================================\n"
          ]
        }
      ],
      "source": [
        "print(\"=\"*100)\n",
        "print(\"Welcome to ADA TECH\".center(100))\n",
        "print(\"=\"*100)"
      ]
    },
    {
      "cell_type": "markdown",
      "metadata": {
        "id": "RpNWwUV71Uam"
      },
      "source": [
        "__________\n",
        "__________\n",
        "__________"
      ]
    },
    {
      "cell_type": "markdown",
      "metadata": {
        "id": "UnqbkIcd1Uam"
      },
      "source": [
        "## 2) Funções de strings\n",
        "\n",
        "Como listas, strings também têm algumas funções específicas. Algumas delas são:"
      ]
    },
    {
      "cell_type": "code",
      "execution_count": 22,
      "metadata": {},
      "outputs": [
        {
          "name": "stdout",
          "output_type": "stream",
          "text": [
            "Ada\n"
          ]
        },
        {
          "data": {
            "text/plain": [
              "'                       Ada                        '"
            ]
          },
          "execution_count": 22,
          "metadata": {},
          "output_type": "execute_result"
        }
      ],
      "source": [
        "# Função: genérica\n",
        "print(\"Ada\")\n",
        "\n",
        "# Método: funções específicas para tipos específicos\n",
        "\"Ada\".center(50)"
      ]
    },
    {
      "cell_type": "markdown",
      "metadata": {
        "id": "JKbnlCYs1Uam"
      },
      "source": [
        ".upper(): transforma todos os caracteres em maiúscula"
      ]
    },
    {
      "cell_type": "code",
      "execution_count": 25,
      "metadata": {
        "id": "MMmIHNj51Uam"
      },
      "outputs": [
        {
          "data": {
            "text/plain": [
              "'JOSEPH'"
            ]
          },
          "execution_count": 25,
          "metadata": {},
          "output_type": "execute_result"
        }
      ],
      "source": [
        "username = \"Joseph\"\n",
        "username.upper()"
      ]
    },
    {
      "cell_type": "markdown",
      "metadata": {
        "id": "tqCTOrQs1Uam"
      },
      "source": [
        ".lower(): trasnforma todos os caracteres em minúscula"
      ]
    },
    {
      "cell_type": "code",
      "execution_count": 26,
      "metadata": {
        "id": "l5JZ5rMj1Uan"
      },
      "outputs": [
        {
          "data": {
            "text/plain": [
              "'joseph'"
            ]
          },
          "execution_count": 26,
          "metadata": {},
          "output_type": "execute_result"
        }
      ],
      "source": [
        "username.lower()"
      ]
    },
    {
      "cell_type": "markdown",
      "metadata": {
        "id": "SH5SzIVG1Uan"
      },
      "source": [
        ".title(): deixa a primeira letra de cada palavra em maiúscula"
      ]
    },
    {
      "cell_type": "code",
      "execution_count": 29,
      "metadata": {
        "id": "MPUK1OIE1Uan"
      },
      "outputs": [
        {
          "data": {
            "text/plain": [
              "'Joel The Good'"
            ]
          },
          "execution_count": 29,
          "metadata": {},
          "output_type": "execute_result"
        }
      ],
      "source": [
        "nick = \"joeL the good\"\n",
        "nick.title()"
      ]
    },
    {
      "cell_type": "markdown",
      "metadata": {
        "id": "DT6TvKXw1Uan"
      },
      "source": [
        ".capitalize(): deixa a primeira letra da primeira palavra em maiúscula"
      ]
    },
    {
      "cell_type": "code",
      "execution_count": 28,
      "metadata": {
        "id": "85bbIuGD1Uan"
      },
      "outputs": [
        {
          "data": {
            "text/plain": [
              "'Whats your name?'"
            ]
          },
          "execution_count": 28,
          "metadata": {},
          "output_type": "execute_result"
        }
      ],
      "source": [
        "text = \"whats your name?\"\n",
        "text.capitalize()"
      ]
    },
    {
      "cell_type": "markdown",
      "metadata": {
        "id": "p8J6ybF11Uan"
      },
      "source": [
        "É possível quebrar uma string em determinado caractere, tendo como resultado uma **lista com os caracteres além da quebra**.\n",
        "\n",
        "- Para quebrar nos espaços, use a função \".split()\", sem argumento"
      ]
    },
    {
      "cell_type": "code",
      "execution_count": 42,
      "metadata": {
        "id": "p96VleCa1Uau"
      },
      "outputs": [
        {
          "data": {
            "text/plain": [
              "['Pedro', 'Souza']"
            ]
          },
          "execution_count": 42,
          "metadata": {},
          "output_type": "execute_result"
        }
      ],
      "source": [
        "dev = \"Pedro Souza\"\n",
        "dev.split()"
      ]
    },
    {
      "cell_type": "markdown",
      "metadata": {
        "id": "eUexXx9D1Uau"
      },
      "source": [
        "- Para quebrar em algum caracter, use o caractere como argumento:"
      ]
    },
    {
      "cell_type": "code",
      "execution_count": 33,
      "metadata": {
        "id": "517qZl2s1Uau"
      },
      "outputs": [
        {
          "data": {
            "text/plain": [
              "['P', 'dro']"
            ]
          },
          "execution_count": 33,
          "metadata": {},
          "output_type": "execute_result"
        }
      ],
      "source": [
        "dev.split(\"e\")"
      ]
    },
    {
      "cell_type": "markdown",
      "metadata": {
        "id": "RBN7kJds1Uau"
      },
      "source": [
        "__Tirar espaços que tão sobrando no fim e no início da string__\n",
        "\n",
        "Utilize a função .strip()"
      ]
    },
    {
      "cell_type": "code",
      "execution_count": 38,
      "metadata": {
        "id": "oQu3VYfa1Uau"
      },
      "outputs": [
        {
          "data": {
            "text/plain": [
              "'Instructor001'"
            ]
          },
          "execution_count": 38,
          "metadata": {},
          "output_type": "execute_result"
        }
      ],
      "source": [
        "agent = \"Instructor001  \"\n",
        "agent.strip()"
      ]
    },
    {
      "cell_type": "markdown",
      "metadata": {
        "id": "0rb2rExq1Uav"
      },
      "source": [
        "Mas essa função não elimina espaços extras no \"meio\" da string -- apenas no início e no fim!"
      ]
    },
    {
      "cell_type": "code",
      "execution_count": 40,
      "metadata": {
        "id": "d-o4vEoX1Uav"
      },
      "outputs": [
        {
          "data": {
            "text/plain": [
              "'Instructor 002'"
            ]
          },
          "execution_count": 40,
          "metadata": {},
          "output_type": "execute_result"
        }
      ],
      "source": [
        "agent2 = \"Instructor 002\"\n",
        "agent2.strip()"
      ]
    },
    {
      "cell_type": "markdown",
      "metadata": {
        "id": "533TTsuw1Uav"
      },
      "source": [
        "__Pra tirar espaços do meio, podemos fazer:__"
      ]
    },
    {
      "cell_type": "code",
      "execution_count": 48,
      "metadata": {},
      "outputs": [
        {
          "data": {
            "text/plain": [
              "'Happy        birthday    to    you   '"
            ]
          },
          "execution_count": 48,
          "metadata": {},
          "output_type": "execute_result"
        }
      ],
      "source": [
        "news = \"Happy        birthday    to    you   \"\n",
        "news"
      ]
    },
    {
      "cell_type": "code",
      "execution_count": 50,
      "metadata": {
        "id": "sXL2m5Ln1Uav"
      },
      "outputs": [
        {
          "data": {
            "text/plain": [
              "'Happy birthday to you'"
            ]
          },
          "execution_count": 50,
          "metadata": {},
          "output_type": "execute_result"
        }
      ],
      "source": [
        "# Limpar espaços a mais(duplicados) no começo, meio e fim de uma string\n",
        "\" \".join(news.split())"
      ]
    },
    {
      "cell_type": "markdown",
      "metadata": {
        "id": "wurYwMsW1Uav"
      },
      "source": [
        "Ou:"
      ]
    },
    {
      "cell_type": "code",
      "execution_count": null,
      "metadata": {
        "id": "LYuhEHoR1Uav"
      },
      "outputs": [],
      "source": []
    },
    {
      "cell_type": "markdown",
      "metadata": {
        "id": "niRR2aKc1Uav"
      },
      "source": [
        "[Métodos de strings em Python](https://www.w3schools.com/python/python_ref_string.asp)\n",
        "\n",
        "Outras funções interessantes...\n",
        "\n",
        "- isdigit()\n",
        "- isalpha()\n",
        "- isalnum()\n",
        "- isspace()"
      ]
    },
    {
      "cell_type": "code",
      "execution_count": 51,
      "metadata": {
        "id": "ON8owIe41Uav"
      },
      "outputs": [
        {
          "data": {
            "text/plain": [
              "False"
            ]
          },
          "execution_count": 51,
          "metadata": {},
          "output_type": "execute_result"
        }
      ],
      "source": [
        "\"d\".isdigit()"
      ]
    },
    {
      "cell_type": "code",
      "execution_count": 52,
      "metadata": {},
      "outputs": [
        {
          "data": {
            "text/plain": [
              "True"
            ]
          },
          "execution_count": 52,
          "metadata": {},
          "output_type": "execute_result"
        }
      ],
      "source": [
        "\"e\".isalpha()"
      ]
    },
    {
      "cell_type": "code",
      "execution_count": 54,
      "metadata": {},
      "outputs": [
        {
          "data": {
            "text/plain": [
              "False"
            ]
          },
          "execution_count": 54,
          "metadata": {},
          "output_type": "execute_result"
        }
      ],
      "source": [
        "\"10\".isalnum()\n",
        "\n",
        "\".\".isalnum()"
      ]
    },
    {
      "cell_type": "code",
      "execution_count": 55,
      "metadata": {},
      "outputs": [
        {
          "data": {
            "text/plain": [
              "True"
            ]
          },
          "execution_count": 55,
          "metadata": {},
          "output_type": "execute_result"
        }
      ],
      "source": [
        "\" \".isspace()"
      ]
    },
    {
      "cell_type": "code",
      "execution_count": 62,
      "metadata": {},
      "outputs": [
        {
          "name": "stdout",
          "output_type": "stream",
          "text": [
            "['H', 'e', 'w', 'i', 'l', 'l', 'g', 'o', 'a', 't', 'p', 'm']\n",
            "['7']\n",
            "[' ', ' ', ' ', ' ', ' ']\n"
          ]
        }
      ],
      "source": [
        "phrase = \"He will go at 7 pm\"\n",
        "\n",
        "letters = []\n",
        "numbers = []\n",
        "simbols = []\n",
        "\n",
        "for char in phrase:\n",
        "    if char.isalpha():\n",
        "        letters.append(char)\n",
        "    elif char.isdigit():\n",
        "        numbers.append(char)\n",
        "    else:\n",
        "        simbols.append(char)\n",
        "print(letters)\n",
        "print(numbers)\n",
        "print(simbols)"
      ]
    },
    {
      "cell_type": "markdown",
      "metadata": {
        "id": "5AsYvCZM1Uav"
      },
      "source": [
        "Podemos usar as funções acima para padronizar a resposta de um usuário!\n",
        "\n",
        "Utilizamos a função\n",
        "\n",
        "```unicodedata.normalize(\"NFD\", minha_string).encode(\"ascii\", \"ignore\").decode(\"utf-8\")```\n",
        "\n",
        "Para tirar acentos da string \"minha_string\"\n",
        "\n",
        "E o ```strip()``` é usado pra tirar espaços desnecessários do início e do fim de uma string"
      ]
    },
    {
      "cell_type": "code",
      "execution_count": null,
      "metadata": {
        "id": "NXzJgswZ1Uav"
      },
      "outputs": [],
      "source": []
    },
    {
      "cell_type": "markdown",
      "metadata": {
        "id": "Wc7HrDCT1Uaw"
      },
      "source": [
        "Como pudemos ver acima, processar a string para que ela esteja em **determinado padrão** (por exemplo: em letras maiúsculas e sem acentos) é um passo muito importante para que operações de comparação entre strings funcionem perfeitamente sem erros!"
      ]
    },
    {
      "cell_type": "code",
      "execution_count": null,
      "metadata": {
        "id": "l1jNuFYk1Uaw"
      },
      "outputs": [],
      "source": []
    },
    {
      "cell_type": "markdown",
      "metadata": {
        "id": "DZyUmbAO1Uaw"
      },
      "source": [
        "___\n",
        "___"
      ]
    },
    {
      "cell_type": "markdown",
      "metadata": {
        "id": "p67hPLVr1Uaw"
      },
      "source": [
        "### 2.1) Formatação de strings\n",
        "\n",
        "Também podemos **formatar strings**. Isso pode ser super útil tanto ao receber dados do usuário (input) quando ao exbibir dados pro usuário (print)"
      ]
    },
    {
      "cell_type": "markdown",
      "metadata": {
        "id": "LFnaJjlt1Uaw"
      },
      "source": [
        "Um dos usos mais legal do format é para **exibir** strings formatadas.\n",
        "\n",
        "Imagine que você queira exibir uma data no formato dd/mm/aaaa.\n",
        "\n",
        "Em situações normais, dias e meses inferiores a 10 apareceriam com apenas 1 dígito (int não é representado com zeros à esquerda). Porém, podemos especificar no format que gostaríamos de representar um inteiro com 2 dígitos, preenchendo com zero dígitos em branco (à esquerda):\n",
        "\n",
        "```python\n",
        "\n",
        "dia = 1\n",
        "mes = 2\n",
        "ano = 2020\n",
        "data = '{:02d}/{:02d}/{:04d}'.format(dia, mes, ano)\n",
        "print(data) # resultado: 01/02/2020\n",
        "```\n",
        "\n",
        "O símbolo 'd' indica que estamos representando números **inteiros** em base decimal (dígitos de 0 a 9).\n",
        "\n",
        "Os símbolos '2' e '4' indicam, respectivamente, 2 dígitos ou 4 dígitos.\n",
        "\n",
        "o símbolo '0' indica que se faltar dígitos, os espaços devem ser preenchidos com zero"
      ]
    },
    {
      "cell_type": "code",
      "execution_count": 65,
      "metadata": {
        "id": "c3wG83fU1Uaw"
      },
      "outputs": [
        {
          "name": "stdout",
          "output_type": "stream",
          "text": [
            "2 3 2024\n",
            "2/3/2024\n"
          ]
        }
      ],
      "source": [
        "dia, mes, ano = 2, 3, 2024\n",
        "print(dia, mes, ano)\n",
        "\n",
        "print(f\"{dia}/{mes}/{ano}\")"
      ]
    },
    {
      "cell_type": "code",
      "execution_count": 3,
      "metadata": {},
      "outputs": [
        {
          "name": "stdout",
          "output_type": "stream",
          "text": [
            "02/03/2024\n"
          ]
        }
      ],
      "source": [
        "day = 2\n",
        "month = 3\n",
        "year = 2024\n",
        "date = '{:02d}/{:02d}/{:04d}'.format(day, month, year)\n",
        "print(date) # resultado: 01/02/2020"
      ]
    },
    {
      "cell_type": "markdown",
      "metadata": {
        "id": "JxE0EJhm1Uaw"
      },
      "source": [
        "Imagina que você queira exibir algum valor monetário, por exemplo, o preço de alguma coisa.\n",
        "\n",
        "Utilizando float, pode ser que seu resultado tenha apenas uma casa decimal.\n",
        "\n",
        "Mas, se tratando de dinheito, sempre queremos mostrar duas casas decimais!\n",
        "\n",
        "Usaremos o format para representar com apenas 2 casas.\n",
        "\n",
        "```python\n",
        "preco = 1500.5\n",
        "\n",
        "print(preco)\n",
        "\n",
        "precoFinal = 'R$ {:.2f}'.format(preco)\n",
        "\n",
        "print(precoFinal)\n",
        "```\n",
        "\n",
        "Neste caso, o 'f' indica que o número é float.\n",
        "\n",
        "Já o '.2' indica que queremos 2 casas após o ponto decimal.\n",
        "\n",
        "Note que a função não apenas descarta as casas excedentes, e sim arredonda corretamente o número."
      ]
    },
    {
      "cell_type": "code",
      "execution_count": 5,
      "metadata": {
        "id": "RUDpzh4i1Uaw"
      },
      "outputs": [
        {
          "name": "stdout",
          "output_type": "stream",
          "text": [
            "Price: $1432.2\n"
          ]
        }
      ],
      "source": [
        "price = 1432.20\n",
        "\n",
        "print(f\"Price: ${price}\")"
      ]
    },
    {
      "cell_type": "code",
      "execution_count": 8,
      "metadata": {},
      "outputs": [
        {
          "name": "stdout",
          "output_type": "stream",
          "text": [
            "$1432.20\n",
            "$1432.200\n"
          ]
        }
      ],
      "source": [
        "finalPrice = '${:.2f}'.format(price)\n",
        "print(finalPrice)\n",
        "\n",
        "finalPrice = '${:.3f}'.format(price)\n",
        "print(finalPrice)"
      ]
    },
    {
      "cell_type": "code",
      "execution_count": 9,
      "metadata": {},
      "outputs": [
        {
          "name": "stdout",
          "output_type": "stream",
          "text": [
            "3234.43\n"
          ]
        }
      ],
      "source": [
        "price2 = 3234.4295\n",
        "finalPrice2 = '{:.2f}'.format(price2)\n",
        "print(finalPrice2)"
      ]
    },
    {
      "cell_type": "markdown",
      "metadata": {
        "id": "RUlrFWaM1Uaw"
      },
      "source": [
        "Uma outra forma interessante de formatar strings é com a utilização das chamadas [f strings](https://docs.python.org/pt-br/3/tutorial/inputoutput.html#tut-f-strings).\n",
        "\n",
        "Esa formatação permite que coloquemos facilmente variáveis em strings, de maneira fluida! Essa construção é super útil sobretudo na construção de exibições mais complexas.\n",
        "\n",
        "Veja, abaixo, alguns exemplos!"
      ]
    },
    {
      "cell_type": "code",
      "execution_count": 11,
      "metadata": {
        "id": "1MsoW4g51Uaw"
      },
      "outputs": [
        {
          "name": "stdout",
          "output_type": "stream",
          "text": [
            "984.43\n"
          ]
        }
      ],
      "source": [
        "price3 = 984.4346\n",
        "print(f\"{price3:.2f}\")"
      ]
    }
  ],
  "metadata": {
    "colab": {
      "provenance": []
    },
    "kernelspec": {
      "display_name": "Python 3",
      "language": "python",
      "name": "python3"
    },
    "language_info": {
      "codemirror_mode": {
        "name": "ipython",
        "version": 3
      },
      "file_extension": ".py",
      "mimetype": "text/x-python",
      "name": "python",
      "nbconvert_exporter": "python",
      "pygments_lexer": "ipython3",
      "version": "3.11.5"
    },
    "varInspector": {
      "cols": {
        "lenName": 16,
        "lenType": 16,
        "lenVar": 40
      },
      "kernels_config": {
        "python": {
          "delete_cmd_postfix": "",
          "delete_cmd_prefix": "del ",
          "library": "var_list.py",
          "varRefreshCmd": "print(var_dic_list())"
        },
        "r": {
          "delete_cmd_postfix": ") ",
          "delete_cmd_prefix": "rm(",
          "library": "var_list.r",
          "varRefreshCmd": "cat(var_dic_list()) "
        }
      },
      "types_to_exclude": [
        "module",
        "function",
        "builtin_function_or_method",
        "instance",
        "_Feature"
      ],
      "window_display": false
    }
  },
  "nbformat": 4,
  "nbformat_minor": 0
}
