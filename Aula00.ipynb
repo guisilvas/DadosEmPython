{
 "cells": [
  {
   "cell_type": "markdown",
   "metadata": {},
   "source": [
    "# Aula 00 - Introdução, Jupyter e Variáveis\n",
    "---\n",
    "\n",
    "Material da aula: https://drive.google.com/drive/folders/122XzK6BInuEGRY8Ape1Vi_q8Gf13uUuT\n",
    "\n",
    "---\n",
    "\n",
    "Atalhos de teclado no [Jupyter Notebook](https://karloguidoni.com/til/cheatsheets/jupyter-notebook/)\n",
    "\n",
    "- 1) O que é Jupyter\n",
    "- 2) Primeiro programa em Python\n",
    "- 3) Variáveis"
   ]
  },
  {
   "cell_type": "code",
   "execution_count": 1,
   "metadata": {},
   "outputs": [
    {
     "name": "stdout",
     "output_type": "stream",
     "text": [
      "3\n"
     ]
    }
   ],
   "source": [
    "x = 1\n",
    "y = 2\n",
    "z = x + y\n",
    "print(z)"
   ]
  },
  {
   "cell_type": "markdown",
   "metadata": {},
   "source": [
    "### 1) Problema gerador: como exibir na tela um cumprimento personalizado com um dado nome?\n",
    "\n",
    "*def = função em python\n",
    "\n",
    "Exemplo: \"Olá, João! Tudo bem?\""
   ]
  },
  {
   "cell_type": "code",
   "execution_count": 4,
   "metadata": {},
   "outputs": [
    {
     "name": "stdout",
     "output_type": "stream",
     "text": [
      "Olá João. Tudo bem?\n"
     ]
    }
   ],
   "source": [
    "def message():\n",
    "    name = \"João\"\n",
    "    print(f\"Olá {name}! Tudo bem?\")\n",
    "\n",
    "message()"
   ]
  },
  {
   "cell_type": "code",
   "execution_count": 1,
   "metadata": {},
   "outputs": [],
   "source": [
    "def message2():\n",
    "    name1 = input(\"Insira um nome: \")\n",
    "    print(f\"Olá, {name1}! Tudo bem?\")\n",
    "\n",
    "message2()"
   ]
  },
  {
   "cell_type": "markdown",
   "metadata": {},
   "source": [
    "### 2) Primeiro programa em Python\n",
    "Exibindo o \"Hello, world!\"\n",
    "\n",
    "Utilizando a função print() com uma mensagem entre aspas dentro das chaves, o print é uma função responsável por printar/mostrar algo na tela."
   ]
  },
  {
   "cell_type": "code",
   "execution_count": 1,
   "metadata": {},
   "outputs": [
    {
     "name": "stdout",
     "output_type": "stream",
     "text": [
      "Hello, world!\n"
     ]
    }
   ],
   "source": [
    "print(\"Hello, world!\")"
   ]
  },
  {
   "cell_type": "markdown",
   "metadata": {},
   "source": [
    "Realizando operações matemáticas em Python:"
   ]
  },
  {
   "cell_type": "code",
   "execution_count": 2,
   "metadata": {},
   "outputs": [
    {
     "name": "stdout",
     "output_type": "stream",
     "text": [
      "4\n",
      "0\n",
      "1.0\n",
      "4\n",
      "4\n",
      "0\n"
     ]
    }
   ],
   "source": [
    "print(2+2)\n",
    "print(2-2)\n",
    "print(2/2)\n",
    "print(2*2)\n",
    "print(2**2)\n",
    "print(2%2)"
   ]
  },
  {
   "cell_type": "markdown",
   "metadata": {},
   "source": [
    "### 3) Variáveis\n",
    "**Armazenar em variáveis torna o algoritmo mais dinâmico!**\n",
    "\n",
    "Variáveis são espaços na memória utiliazados para armazenar dados, são 'caixas' que guardam string, integers, booleans ou floats.\n",
    "(Em Python não é necessário declarar o tipo da variável.)\n",
    "\n",
    "É possível realizar operações matemáticas com integer e float, com string é possível concatenar, juntar os dados.\n",
    "\n",
    "- string = letras  / palavras\n",
    "- integer = inteiros\n",
    "- float = números com casas decimais\n",
    "- boolean = verdadeiro ou falso / 1 ou 0\n",
    "\n",
    "Sempre delimitar o nome das variáveis de forma representativa.\n",
    "\n",
    "Exemplos de formatações:\n",
    "\n",
    "- Camel case: myVariabel\n",
    "- Pascal case: MyVariabel\n",
    "- Snake case: my_variable\n",
    "- Kebab case: my-variable\n",
    "\n",
    "Python é case sensitive, logo ele diferencia maiúsculas de minúsculas."
   ]
  },
  {
   "cell_type": "code",
   "execution_count": 3,
   "metadata": {},
   "outputs": [
    {
     "name": "stdout",
     "output_type": "stream",
     "text": [
      "15 10.3 False apple\n"
     ]
    }
   ],
   "source": [
    "number = 15 #Armazena um integer\n",
    "number2 = 10.3 #Armazena um float\n",
    "verify = False #Armazena um boolean\n",
    "word = \"apple\" #Armazena uma string\n",
    "\n",
    "print(number, number2, verify, word)"
   ]
  },
  {
   "cell_type": "markdown",
   "metadata": {},
   "source": [
    "### Etapas de um projeto de Ciência de Dados\n",
    "\n",
    "1) Formação do problema;\n",
    "\n",
    "2) Ingestão de dados;\n",
    "\n",
    "3) Preparação dos dados;\n",
    "\n",
    "4) Exploração dos dados;\n",
    "\n",
    "5) Modelagem dos dados;\n",
    "\n",
    "6) Apresentação ou deploy;\n",
    "\n",
    "#### CRISP-DM (Cross-Industry Standard Process for Data Mining) é uma estrutura sistemática para guiar projetos de mineração de dados desde a compreensão do negócio até a implementação das soluções.\n",
    "\n",
    "1. **Compreensão do Negócio (Business Understanding):** Entender os objetivos do negócio, requisitos e critérios de sucesso para o projeto de Data Science.\n",
    "\n",
    "2. **Compreensão dos Dados (Data Understanding):** Coletar, explorar e avaliar os dados disponíveis para o projeto, identificando padrões e características relevantes.\n",
    "\n",
    "3. **Preparação dos Dados (Data Preparation):** Limpar, transformar e preparar os dados para análise, garantindo que estejam prontos para serem utilizados pelos modelos de machine learning.\n",
    "\n",
    "4. **Modelagem (Modeling):** Desenvolver e construir modelos de machine learning para realizar análises preditivas ou descritivas, escolhendo as técnicas mais adequadas para os dados e o problema em questão.\n",
    "\n",
    "5. **Avaliação (Evaluation):** Avaliar a performance do modelo em relação aos objetivos do negócio, refinando-o se necessário. Este é um processo iterativo.\n",
    "\n",
    "6. **Implantação (Deployment):** Implementar e integrar os resultados do modelo no ambiente de produção, garantindo que as soluções sejam aplicadas de forma eficaz.\n",
    "\n",
    "O ciclo de vida do CRISP-DM é flexível e iterativo, permitindo que as organizações voltem às fases anteriores conforme necessário para ajustar e melhorar o modelo ou lidar com mudanças nos requisitos do negócio. Esse processo orientado a projeto ajuda a organizar e sistematizar as atividades em projetos de Data Science, contribuindo para a eficácia e sucesso das iniciativas analíticas."
   ]
  }
 ],
 "metadata": {
  "kernelspec": {
   "display_name": "Python 3",
   "language": "python",
   "name": "python3"
  },
  "language_info": {
   "codemirror_mode": {
    "name": "ipython",
    "version": 3
   },
   "file_extension": ".py",
   "mimetype": "text/x-python",
   "name": "python",
   "nbconvert_exporter": "python",
   "pygments_lexer": "ipython3",
   "version": "3.11.0"
  }
 },
 "nbformat": 4,
 "nbformat_minor": 2
}
